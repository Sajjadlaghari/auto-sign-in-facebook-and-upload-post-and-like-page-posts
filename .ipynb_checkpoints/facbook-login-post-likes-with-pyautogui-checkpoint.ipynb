{
 "cells": [
  {
   "cell_type": "code",
   "execution_count": 2,
   "id": "d90df73f-b676-46ea-b936-463707606545",
   "metadata": {},
   "outputs": [],
   "source": [
    "import pyautogui"
   ]
  },
  {
   "cell_type": "code",
   "execution_count": 3,
   "id": "9c42dc56-f1e9-4f8f-8ccb-a57404cacf45",
   "metadata": {},
   "outputs": [
    {
     "data": {
      "text/plain": [
       "Point(x=847, y=339)"
      ]
     },
     "execution_count": 3,
     "metadata": {},
     "output_type": "execute_result"
    }
   ],
   "source": [
    "# pyautogui.size()\n",
    "pyautogui.position()"
   ]
  },
  {
   "cell_type": "code",
   "execution_count": 35,
   "id": "32c04b83-e64a-44e3-8361-4d3bfbe3689f",
   "metadata": {},
   "outputs": [],
   "source": [
    "from pyautogui import *\n",
    "import pyperclip\n",
    "\n",
    "pyautogui.moveTo(1608,20,duration=1)\n",
    "pyautogui.click(1608,20)\n",
    "\n",
    "\n",
    "pyautogui.moveTo(282,69,duration=1)\n",
    "pyautogui.click(282,69)\n",
    "\n",
    "pyautogui.write('facebook.com',interval=0.2)\n",
    "pyautogui.press('enter')\n",
    "\n",
    "\n",
    "\n",
    "# pyautogui.moveTo(1209,349,duration=3)\n",
    "# pyautogui.click(349,349)\n",
    "\n",
    "pyautogui.write('sajjadlaghari723',interval=0.2)\n",
    "pyperclip.copy('@')\n",
    "pyautogui.hotkey('ctrl', 'v')\n",
    "pyautogui.write('gmail.com',interval=0.2)\n",
    "\n",
    "\n",
    "pyautogui.moveTo(1273,414,duration=1,)\n",
    "pyautogui.click(1273,414,duration=0.9)\n",
    "\n",
    "\n",
    "\n",
    "\n",
    "\n",
    "pyautogui.write(\"Sajjadjan1234\",interval=0.2)\n",
    "pyperclip.copy('@')\n",
    "pyautogui.hotkey('ctrl', 'v')\n",
    "\n",
    "# position of login button\n",
    "pyautogui.moveTo(1283,498,duration=1)\n",
    "pyautogui.click(1283,498)\n",
    "\n",
    "\n",
    "# For Post CLick\n",
    "pyautogui.moveTo(795,541,duration=5)\n",
    "pyautogui.click(795,541,duration=3)\n",
    "\n",
    "\n",
    "\n",
    "pyautogui.click(795,541,duration=1)\n",
    "pyperclip.copy('Dear Aspirants Kindly Note The Details Mentioned.')\n",
    "pyautogui.hotkey('ctrl', 'v')\n",
    "\n",
    "# position for select the post image\n",
    "pyautogui.moveTo(962,681,duration=1)\n",
    "pyautogui.click(962,681)\n",
    "\n",
    "\n",
    "pyautogui.moveTo(948,553,duration=1)\n",
    "\n",
    "pyautogui.click(948,553,duration=0.6)\n",
    "\n",
    "\n",
    "#postion for the selection of image from computer\n",
    "\n",
    "pyautogui.moveTo(300,211, duration=1)\n",
    "pyautogui.click(300,211)\n",
    "\n",
    "# After select file click open button position\n",
    "pyautogui.moveTo(928,557 ,duration=1)\n",
    "pyautogui.click(928,557)\n",
    "\n",
    "\n",
    "\n",
    "pyautogui.moveTo(917, 829, duration=1)\n",
    "pyautogui.click(917,829)\n",
    "\n",
    "# for refresh page after posted\n",
    "pyautogui.moveTo(651, 163, duration=1)\n",
    "pyautogui.click(651,163,duration=4)\n",
    "\n",
    "# for Scroll\n",
    "pyautogui.sleep(1)\n",
    "pyautogui.scroll(-300,x=-1000,y=-1000)\n",
    "\n",
    "# for search page\n",
    "# pyautogui.moveTo(171,164, duration=1)\n",
    "# pyautogui.click(171, 164, duration=1)\n",
    "# pyautogui.write(\"Saylani\", interval=0.2)\n",
    "# pyautogui.moveTo(170, 279, duration=1)\n",
    "# pyautogui.click(170, 279, duration=1)\n",
    "# pyautogui.moveTo(809,292, duration=1)\n",
    "# pyautogui.click(809,292, duration=1)\n",
    "\n",
    "\n",
    "\n",
    "# for Scroll\n",
    "# pyautogui.sleep(1)\n",
    "# pyautogui.scroll(-300,x=-1600,y=-1600)\n",
    "# pyautogui.click(1598,870,duration=1)\n",
    "\n",
    "# pyautogui.sleep(1)\n",
    "# pyautogui.scroll(-300,x=-1500,y=-1500)\n",
    "# pyautogui.click(1598,1000,duration=1)\n",
    "\n",
    "# pyautogui.sleep(1)\n",
    "# pyautogui.scroll(-200,x=-1500,y=-1500)\n",
    "\n",
    " # click on post\n",
    "# pyautogui.moveTo(1103, 630, duration=1)\n",
    "# pyautogui.click(1103, 630, duration=1)\n",
    "\n",
    "\n",
    "\n",
    "\n",
    "\n"
   ]
  },
  {
   "cell_type": "code",
   "execution_count": 20,
   "id": "21168e6a-cd6f-45be-a1a5-cb1a0da85fc7",
   "metadata": {},
   "outputs": [
    {
     "data": {
      "text/plain": [
       "Point(x=170, y=279)"
      ]
     },
     "execution_count": 20,
     "metadata": {},
     "output_type": "execute_result"
    }
   ],
   "source": [
    "pyautogui.position()"
   ]
  }
 ],
 "metadata": {
  "kernelspec": {
   "display_name": "Python 3 (ipykernel)",
   "language": "python",
   "name": "python3"
  },
  "language_info": {
   "codemirror_mode": {
    "name": "ipython",
    "version": 3
   },
   "file_extension": ".py",
   "mimetype": "text/x-python",
   "name": "python",
   "nbconvert_exporter": "python",
   "pygments_lexer": "ipython3",
   "version": "3.10.9"
  }
 },
 "nbformat": 4,
 "nbformat_minor": 5
}

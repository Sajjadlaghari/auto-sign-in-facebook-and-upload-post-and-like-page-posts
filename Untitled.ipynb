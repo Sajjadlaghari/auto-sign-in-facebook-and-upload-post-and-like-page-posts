{
 "cells": [
  {
   "cell_type": "code",
   "execution_count": 4,
   "id": "99edb0b5-3da6-45ed-ba79-33b55fc99e84",
   "metadata": {},
   "outputs": [],
   "source": [
    "import pyautogui\n",
    "location = pyautogui.locateOnScreen('add.PNG')\n",
    "location"
   ]
  },
  {
   "cell_type": "code",
   "execution_count": null,
   "id": "c926c783-5079-4d3a-9f60-554e966ea8aa",
   "metadata": {},
   "outputs": [],
   "source": []
  }
 ],
 "metadata": {
  "kernelspec": {
   "display_name": "Python 3 (ipykernel)",
   "language": "python",
   "name": "python3"
  },
  "language_info": {
   "codemirror_mode": {
    "name": "ipython",
    "version": 3
   },
   "file_extension": ".py",
   "mimetype": "text/x-python",
   "name": "python",
   "nbconvert_exporter": "python",
   "pygments_lexer": "ipython3",
   "version": "3.10.9"
  }
 },
 "nbformat": 4,
 "nbformat_minor": 5
}
